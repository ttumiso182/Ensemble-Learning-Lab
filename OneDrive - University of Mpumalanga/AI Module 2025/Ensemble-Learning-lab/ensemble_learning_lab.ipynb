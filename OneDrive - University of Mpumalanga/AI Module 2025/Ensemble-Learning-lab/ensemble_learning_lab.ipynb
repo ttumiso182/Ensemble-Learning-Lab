{
 "cells": [
  {
   "cell_type": "markdown",
   "id": "47181fa7",
   "metadata": {},
   "source": [
    "# Ensemble Learning Lab: Combining Models for Improved Performance"
   ]
  },
  {
   "cell_type": "markdown",
   "id": "51e03d0d",
   "metadata": {},
   "source": [
    "# Part 1: Implementing a Majority Vote Classifier"
   ]
  },
  {
   "cell_type": "markdown",
   "id": "4f7d9124",
   "metadata": {},
   "source": [
    "**Step 1.1: Understanding Ensemble Concepts**"
   ]
  },
  {
   "cell_type": "markdown",
   "id": "7eee96ae",
   "metadata": {},
   "source": [
    "   Ensemble methods combine multiple classifiers to make more accurate predictions than individual classifiers."
   ]
  },
  {
   "cell_type": "markdown",
   "id": "01ab2578",
   "metadata": {},
   "source": [
    "**Step 1.2: Implement Majority Voting Classifier**"
   ]
  },
  {
   "cell_type": "code",
   "execution_count": 20,
   "id": "15572295",
   "metadata": {},
   "outputs": [],
   "source": [
    "import numpy as np\n",
    "import pandas as pd\n",
    "from sklearn.base import BaseEstimator, ClassifierMixin, clone\n",
    "from sklearn.preprocessing import LabelEncoder\n",
    "from sklearn.pipeline import _name_estimators\n",
    "import six\n",
    "\n",
    "class MajorityVoteClassifier(BaseEstimator, ClassifierMixin):\n",
    "    \"\"\"A majority vote ensemble classifier\"\"\"\n",
    "\n",
    "    def __init__(self, classifiers, vote='classlabel', weights=None):\n",
    "        self.classifiers = classifiers\n",
    "        self.named_classifiers = {key: value for key, value in _name_estimators(classifiers)}\n",
    "        self.vote = vote\n",
    "        self.weights = weights\n",
    "\n",
    "    def fit(self, X, y):\n",
    "        \"\"\"Fit classifiers\"\"\"\n",
    "        self.lablenc_ = LabelEncoder()\n",
    "        self.lablenc_.fit(y)\n",
    "        self.classes_ = self.lablenc_.classes_\n",
    "        self.classifiers_ = []\n",
    "        for clf in self.classifiers:\n",
    "            fitted_clf = clone(clf).fit(X, self.lablenc_.transform(y))\n",
    "            self.classifiers_.append(fitted_clf)\n",
    "        return self\n",
    "\n",
    "    def predict(self, X):\n",
    "        \"\"\"Predict class labels\"\"\"\n",
    "        if self.vote == 'probability':\n",
    "            maj_vote = np.argmax(self.predict_proba(X), axis=1)\n",
    "        else:\n",
    "            predictions = np.asarray([clf.predict(X) for clf in self.classifiers_]).T\n",
    "            maj_vote = np.apply_along_axis(\n",
    "                lambda x: np.argmax(np.bincount(x, weights=self.weights)),\n",
    "                axis=1, arr=predictions)\n",
    "        maj_vote = self.lablenc_.inverse_transform(maj_vote)\n",
    "        return maj_vote\n",
    "\n",
    "    def predict_proba(self, X):\n",
    "        \"\"\"Predict class probabilities\"\"\"\n",
    "        probas = np.asarray([clf.predict_proba(X) for clf in self.classifiers_])\n",
    "        avg_proba = np.average(probas, axis=0, weights=self.weights)\n",
    "        return avg_proba\n",
    "\n",
    "    def get_params(self, deep=True):\n",
    "        \"\"\"Get classifier parameter names for GridSearch\"\"\"\n",
    "        if not deep:\n",
    "            return super(MajorityVoteClassifier, self).get_params(deep=False)\n",
    "        else:\n",
    "            out = self.named_classifiers.copy()\n",
    "            for name, step in six.iteritems(self.named_classifiers):\n",
    "                for key, value in six.iteritems(step.get_params(deep=True)):\n",
    "                    out['%s__%s' % (name, key)] = value\n",
    "            return out"
   ]
  },
  {
   "cell_type": "markdown",
   "id": "6ffa13e2",
   "metadata": {},
   "source": [
    "**Step 1.3: Prepare the Iris Dataset**"
   ]
  },
  {
   "cell_type": "code",
   "execution_count": 21,
   "id": "1084b195",
   "metadata": {},
   "outputs": [],
   "source": [
    "\n",
    "from sklearn import datasets\n",
    "from sklearn.model_selection import train_test_split\n",
    "from sklearn.preprocessing import StandardScaler, LabelEncoder\n",
    "\n",
    "# Load Iris dataset\n",
    "iris = datasets.load_iris()\n",
    "X, y = iris.data[50:, [1, 2]], iris.target[50:]\n",
    "le = LabelEncoder()\n",
    "y = le.fit_transform(y)\n",
    "\n",
    "# Split into training and test sets\n",
    "X_train, X_test, y_train, y_test = train_test_split(\n",
    "    X, y, test_size=0.3, random_state=1, stratify=y)"
   ]
  },
  {
   "cell_type": "markdown",
   "id": "ea8f8066",
   "metadata": {},
   "source": [
    "**Step 1.4: Step 1.4: Train Individual Classifiers**"
   ]
  },
  {
   "cell_type": "code",
   "execution_count": 22,
   "id": "2a75d9d2",
   "metadata": {},
   "outputs": [
    {
     "name": "stdout",
     "output_type": "stream",
     "text": [
      "10-fold cross validation:\n",
      "\n",
      "ROC AUC: 0.94 (+/- 0.07) [Logistic regression]\n",
      "ROC AUC: 0.90 (+/- 0.12) [Decision tree]\n",
      "ROC AUC: 0.86 (+/- 0.12) [KNN]\n"
     ]
    }
   ],
   "source": [
    "from sklearn.linear_model import LogisticRegression\n",
    "from sklearn.tree import DecisionTreeClassifier\n",
    "from sklearn.neighbors import KNeighborsClassifier\n",
    "from sklearn.pipeline import Pipeline\n",
    "from sklearn.model_selection import cross_val_score\n",
    "\n",
    "# Create individual classifiers\n",
    "clf1 = LogisticRegression(penalty='l2', C=0.001, random_state=1)\n",
    "clf2 = DecisionTreeClassifier(max_depth=1, criterion='entropy', random_state=0)\n",
    "clf3 = KNeighborsClassifier(n_neighbors=1, p=2, metric='minkowski')\n",
    "\n",
    "# Create pipeline with standardization\n",
    "pipe1 = Pipeline([['sc', StandardScaler()], ['clf', clf1]])\n",
    "pipe3 = Pipeline([['sc', StandardScaler()], ['clf', clf3]])\n",
    "\n",
    "clf_labels = ['Logistic regression', 'Decision tree', 'KNN']\n",
    "print('10-fold cross validation:\\n')\n",
    "\n",
    "for clf, label in zip([pipe1, clf2, pipe3], clf_labels):\n",
    "    scores = cross_val_score(estimator=clf, X=X_train, y=y_train, cv=10, scoring='roc_auc')\n",
    "    print(\"ROC AUC: %0.2f (+/- %0.2f) [%s]\" % (scores.mean(), scores.std(), label))\n"
   ]
  },
  {
   "cell_type": "markdown",
   "id": "472af8c8",
   "metadata": {},
   "source": [
    "**Step 1.5: Step 1.5: Create and Evaluate Majority Voting Classifier**"
   ]
  },
  {
   "cell_type": "code",
   "execution_count": 23,
   "id": "040b7989",
   "metadata": {},
   "outputs": [
    {
     "name": "stdout",
     "output_type": "stream",
     "text": [
      "ROC AUC: 0.94 (+/- 0.07) [Logistic regression]\n",
      "ROC AUC: 0.90 (+/- 0.12) [Decision tree]\n",
      "ROC AUC: 0.86 (+/- 0.12) [KNN]\n",
      "ROC AUC: 0.97 (+/- 0.05) [Majority voting]\n"
     ]
    }
   ],
   "source": [
    "\n",
    "# Create majority rule classifier\n",
    "mv_clf = MajorityVoteClassifier(classifiers=[pipe1, clf2, pipe3])\n",
    "clf_labels += ['Majority voting']\n",
    "all_clf = [pipe1, clf2, pipe3, mv_clf]\n",
    "\n",
    "for clf, label in zip(all_clf, clf_labels):\n",
    "    scores = cross_val_score(estimator=clf, X=X_train, y=y_train, cv=10, scoring='roc_auc')\n",
    "    print(\"ROC AUC: %0.2f (+/- %0.2f) [%s]\" % (scores.mean(), scores.std(), label))"
   ]
  },
  {
   "cell_type": "markdown",
   "id": "86f9717f",
   "metadata": {},
   "source": [
    "# Part 2: Bagging - Building Ensemble from Bootstrap Samples For nonlinear data."
   ]
  },
  {
   "cell_type": "markdown",
   "id": "25de0a03",
   "metadata": {},
   "source": [
    "**Step 2.1: Understanding Bagging Concepts**"
   ]
  },
  {
   "cell_type": "markdown",
   "id": "c7fae84b",
   "metadata": {},
   "source": [
    "Bagging (Bootstrap Aggregating) builds an ensemble of classifiers trained on different bootstrap samples of the training dataset."
   ]
  },
  {
   "cell_type": "markdown",
   "id": "22e59a5c",
   "metadata": {},
   "source": [
    "**Step 2.2: Prepare Wine Dataset**"
   ]
  },
  {
   "cell_type": "code",
   "execution_count": 24,
   "id": "16b88247",
   "metadata": {},
   "outputs": [],
   "source": [
    "# Load Wine dataset\n",
    "df_wine = pd.read_csv('https://archive.ics.uci.edu/ml/machine-learning-databases/wine/wine.data', header=None)\n",
    "df_wine.columns = ['Class label', 'Alcohol', 'Malic acid', 'Ash', 'Alcalinity of ash', \n",
    "                   'Magnesium', 'Total phenols', 'Flavanoids', 'Nonflavanoid phenols', \n",
    "                   'Proanthocyanins', 'Color intensity', 'Hue', 'OD280/OD315 of diluted wines', 'Proline']\n",
    "\n",
    "# Drop class 1 and only use classes 2 and 3\n",
    "df_wine = df_wine[df_wine['Class label'] != 1]\n",
    "y = df_wine['Class label'].values\n",
    "X = df_wine[['Alcohol', 'OD280/OD315 of diluted wines']].values\n",
    "\n",
    "# Encode labels and split data\n",
    "le = LabelEncoder()\n",
    "y = le.fit_transform(y)\n",
    "X_train, X_test, y_train, y_test = train_test_split(X, y, test_size=0.2, random_state=1, stratify=y)"
   ]
  },
  {
   "cell_type": "markdown",
   "id": "0a2be4fc",
   "metadata": {},
   "source": [
    "**Step 2.3: Implement Bagging Classifier**"
   ]
  },
  {
   "cell_type": "code",
   "execution_count": 25,
   "id": "ff27edc2",
   "metadata": {},
   "outputs": [
    {
     "name": "stdout",
     "output_type": "stream",
     "text": [
      "Decision tree train/test accuracies 1.000/0.833\n"
     ]
    }
   ],
   "source": [
    "from sklearn.ensemble import BaggingClassifier\n",
    "from sklearn.tree import DecisionTreeClassifier\n",
    "from sklearn.metrics import accuracy_score\n",
    "\n",
    "# Create decision tree classifier\n",
    "tree = DecisionTreeClassifier(criterion='entropy', random_state=1, max_depth=None)\n",
    "\n",
    "# Create bagging classifier\n",
    "bag = BaggingClassifier(estimator=tree, n_estimators=500, \n",
    "                        max_samples=1.0, max_features=1.0, \n",
    "                        bootstrap=True, bootstrap_features=False, \n",
    "                        n_jobs=1, random_state=1)\n",
    "\n",
    "# Train and evaluate individual decision tree\n",
    "tree = tree.fit(X_train, y_train)\n",
    "y_train_pred = tree.predict(X_train)\n",
    "y_test_pred = tree.predict(X_test)\n",
    "tree_train = accuracy_score(y_train, y_train_pred)\n",
    "tree_test = accuracy_score(y_test, y_test_pred)\n",
    "print('Decision tree train/test accuracies %.3f/%.3f' % (tree_train, tree_test))"
   ]
  },
  {
   "cell_type": "markdown",
   "id": "d5a6151e",
   "metadata": {},
   "source": [
    "**Step 2.4: Visualize Decision Boundaries**"
   ]
  },
  {
   "cell_type": "code",
   "execution_count": 26,
   "id": "65e03417",
   "metadata": {},
   "outputs": [
    {
     "data": {
      "image/png": "[encoded data removed]",
      "text/plain": [
       "<Figure size 800x300 with 2 Axes>"
      ]
     },
     "metadata": {},
     "output_type": "display_data"
    }
   ],
   "source": [
    "\n",
    "import matplotlib.pyplot as plt\n",
    "import numpy as np\n",
    "\n",
    "# Create mesh grid for plotting\n",
    "x_min = X_train[:, 0].min() - 1\n",
    "x_max = X_train[:, 0].max() + 1\n",
    "y_min = X_train[:, 1].min() - 1\n",
    "y_max = X_train[:, 1].max() + 1\n",
    "xx, yy = np.meshgrid(np.arange(x_min, x_max, 0.1),\n",
    "                     np.arange(y_min, y_max, 0.1))\n",
    "\n",
    "f, axarr = plt.subplots(nrows=1, ncols=2, sharex='col', sharey='row', figsize=(8, 3))\n",
    "\n",
    "for idx, clf, tt in zip([0, 1], [tree, bag], ['Decision tree', 'Bagging']):\n",
    "    clf.fit(X_train, y_train)\n",
    "    Z = clf.predict(np.c_[xx.ravel(), yy.ravel()])\n",
    "    Z = Z.reshape(xx.shape)\n",
    "    axarr[idx].contourf(xx, yy, Z, alpha=0.3)\n",
    "    axarr[idx].scatter(X_train[y_train==0, 0], X_train[y_train==0, 1], c='blue', marker='^')\n",
    "    axarr[idx].scatter(X_train[y_train==1, 0], X_train[y_train==1, 1], c='green', marker='o')\n",
    "    axarr[idx].set_title(tt)\n",
    "\n",
    "axarr[0].set_ylabel('Alcohol', fontsize=12)\n",
    "plt.text(10.2, -1.2, s='OD280/OD315 of diluted wines', ha='center', va='center', fontsize=12)\n",
    "plt.tight_layout()\n",
    "plt.show()"
   ]
  },
  {
   "cell_type": "markdown",
   "id": "76ff7a3a",
   "metadata": {},
   "source": [
    "# Part 3: Adaptive Boosting (AdaBoost)"
   ]
  },
  {
   "cell_type": "markdown",
   "id": "0d7e0ebc",
   "metadata": {},
   "source": [
    "**Step 3.1: AdaBoost Concepts**"
   ]
  },
  {
   "cell_type": "markdown",
   "id": "586da01d",
   "metadata": {},
   "source": [
    "AdaBoost combines multiple weak learners (typically decision stumps) by focusing on misclassified samples in each iteration."
   ]
  },
  {
   "cell_type": "markdown",
   "id": "b1fbf109",
   "metadata": {},
   "source": [
    "**Step 3.2: Implement AdaBoost Classifier**"
   ]
  },
  {
   "cell_type": "code",
   "execution_count": 27,
   "id": "c7fa2be4",
   "metadata": {},
   "outputs": [
    {
     "name": "stdout",
     "output_type": "stream",
     "text": [
      "Decision tree stump train/test accuracies 0.916/0.875\n"
     ]
    },
    {
     "name": "stderr",
     "output_type": "stream",
     "text": [
      "c:\\Users\\ttumi\\anaconda3\\Lib\\site-packages\\sklearn\\ensemble\\_weight_boosting.py:519: FutureWarning: The SAMME.R algorithm (the default) is deprecated and will be removed in 1.6. Use the SAMME algorithm to circumvent this warning.\n",
      "  warnings.warn(\n"
     ]
    },
    {
     "name": "stdout",
     "output_type": "stream",
     "text": [
      "AdaBoost train/test accuracies 1.000/0.917\n"
     ]
    }
   ],
   "source": [
    "from sklearn.ensemble import AdaBoostClassifier\n",
    "\n",
    "# Create decision tree stump\n",
    "tree = DecisionTreeClassifier(criterion='entropy', random_state=1, max_depth=1)\n",
    "\n",
    "# Create AdaBoost classifier\n",
    "ada = AdaBoostClassifier(estimator=tree, n_estimators=500, \n",
    "                         learning_rate=0.1, random_state=1)\n",
    "\n",
    "# Train individual decision tree stump\n",
    "tree = tree.fit(X_train, y_train)\n",
    "y_train_pred = tree.predict(X_train)\n",
    "y_test_pred = tree.predict(X_test)\n",
    "tree_train = accuracy_score(y_train, y_train_pred)\n",
    "tree_test = accuracy_score(y_test, y_test_pred)\n",
    "print('Decision tree stump train/test accuracies %.3f/%.3f' % (tree_train, tree_test))\n",
    "\n",
    "# Train AdaBoost classifier\n",
    "ada = ada.fit(X_train, y_train)\n",
    "y_train_pred = ada.predict(X_train)\n",
    "y_test_pred = ada.predict(X_test)\n",
    "ada_train = accuracy_score(y_train, y_train_pred) \n",
    "ada_test = accuracy_score(y_test, y_test_pred)\n",
    "print('AdaBoost train/test accuracies %.3f/%.3f' % (ada_train, ada_test))"
   ]
  },
  {
   "cell_type": "markdown",
   "id": "a5ca64bb",
   "metadata": {},
   "source": [
    "**Step 3.3: Analyze AdaBoost Error Convergence**"
   ]
  },
  {
   "cell_type": "code",
   "execution_count": 28,
   "id": "3c17b7ae",
   "metadata": {},
   "outputs": [
    {
     "name": "stderr",
     "output_type": "stream",
     "text": [
      "c:\\Users\\ttumi\\anaconda3\\Lib\\site-packages\\sklearn\\ensemble\\_weight_boosting.py:519: FutureWarning: The SAMME.R algorithm (the default) is deprecated and will be removed in 1.6. Use the SAMME algorithm to circumvent this warning.\n",
      "  warnings.warn(\n"
     ]
    },
    {
     "data": {
      "image/png": "[encoded data removed]",
      "text/plain": [
       "<Figure size 640x480 with 1 Axes>"
      ]
     },
     "metadata": {},
     "output_type": "display_data"
    }
   ],
   "source": [
    "\n",
    "# Plot error convergence for AdaBoost\n",
    "ada = AdaBoostClassifier(estimator=DecisionTreeClassifier(max_depth=1, random_state=1),\n",
    "                         n_estimators=500, learning_rate=0.1, random_state=1)\n",
    "\n",
    "ada.fit(X_train, y_train)\n",
    "ada_train_err = []\n",
    "ada_test_err = []\n",
    "\n",
    "for y_train_pred, y_test_pred in zip(ada.staged_predict(X_train), ada.staged_predict(X_test)):\n",
    "    ada_train_err.append(1 - accuracy_score(y_train, y_train_pred))\n",
    "    ada_test_err.append(1 - accuracy_score(y_test, y_test_pred))\n",
    "\n",
    "plt.plot(range(1, len(ada_train_err) + 1), ada_train_err, label='Training error', color='blue', linestyle='-')\n",
    "plt.plot(range(1, len(ada_test_err) + 1), ada_test_err, label='Test error', color='red', linestyle='--')\n",
    "plt.xlabel('Number of boosting iterations')\n",
    "plt.ylabel('Error')\n",
    "plt.legend(loc='upper right')\n",
    "plt.ylim(0, 0.5)\n",
    "plt.title('AdaBoost error convergence')\n",
    "plt.tight_layout()\n",
    "plt.show()"
   ]
  },
  {
   "cell_type": "markdown",
   "id": "fe95fc5b",
   "metadata": {},
   "source": [
    "# Part 4: Comparing All Ensemble Methods"
   ]
  },
  {
   "cell_type": "markdown",
   "id": "def10e82",
   "metadata": {},
   "source": [
    "**Step 4.1: Comprehensive Comparison**"
   ]
  },
  {
   "cell_type": "code",
   "execution_count": 29,
   "id": "2274e6d0",
   "metadata": {},
   "outputs": [
    {
     "name": "stderr",
     "output_type": "stream",
     "text": [
      "c:\\Users\\ttumi\\anaconda3\\Lib\\site-packages\\sklearn\\linear_model\\_logistic.py:469: ConvergenceWarning: lbfgs failed to converge (status=1):\n",
      "STOP: TOTAL NO. of ITERATIONS REACHED LIMIT.\n",
      "\n",
      "Increase the number of iterations (max_iter) or scale the data as shown in:\n",
      "    https://scikit-learn.org/stable/modules/preprocessing.html\n",
      "Please also refer to the documentation for alternative solver options:\n",
      "    https://scikit-learn.org/stable/modules/linear_model.html#logistic-regression\n",
      "  n_iter_i = _check_optimize_result(\n",
      "c:\\Users\\ttumi\\anaconda3\\Lib\\site-packages\\sklearn\\linear_model\\_logistic.py:469: ConvergenceWarning: lbfgs failed to converge (status=1):\n",
      "STOP: TOTAL NO. of ITERATIONS REACHED LIMIT.\n",
      "\n",
      "Increase the number of iterations (max_iter) or scale the data as shown in:\n",
      "    https://scikit-learn.org/stable/modules/preprocessing.html\n",
      "Please also refer to the documentation for alternative solver options:\n",
      "    https://scikit-learn.org/stable/modules/linear_model.html#logistic-regression\n",
      "  n_iter_i = _check_optimize_result(\n",
      "c:\\Users\\ttumi\\anaconda3\\Lib\\site-packages\\sklearn\\linear_model\\_logistic.py:469: ConvergenceWarning: lbfgs failed to converge (status=1):\n",
      "STOP: TOTAL NO. of ITERATIONS REACHED LIMIT.\n",
      "\n",
      "Increase the number of iterations (max_iter) or scale the data as shown in:\n",
      "    https://scikit-learn.org/stable/modules/preprocessing.html\n",
      "Please also refer to the documentation for alternative solver options:\n",
      "    https://scikit-learn.org/stable/modules/linear_model.html#logistic-regression\n",
      "  n_iter_i = _check_optimize_result(\n",
      "c:\\Users\\ttumi\\anaconda3\\Lib\\site-packages\\sklearn\\linear_model\\_logistic.py:469: ConvergenceWarning: lbfgs failed to converge (status=1):\n",
      "STOP: TOTAL NO. of ITERATIONS REACHED LIMIT.\n",
      "\n",
      "Increase the number of iterations (max_iter) or scale the data as shown in:\n",
      "    https://scikit-learn.org/stable/modules/preprocessing.html\n",
      "Please also refer to the documentation for alternative solver options:\n",
      "    https://scikit-learn.org/stable/modules/linear_model.html#logistic-regression\n",
      "  n_iter_i = _check_optimize_result(\n"
     ]
    },
    {
     "name": "stdout",
     "output_type": "stream",
     "text": [
      "            Classifier  Mean Accuracy  Std Accuracy\n",
      "1                  KNN       0.951818      0.048285\n",
      "0  Logistic Regression       0.941818      0.047621\n",
      "4    Voting Classifier       0.940909      0.065839\n",
      "5              Bagging       0.940909      0.065839\n",
      "3        Random Forest       0.931818      0.063278\n",
      "2        Decision Tree       0.922727      0.059231\n",
      "6             AdaBoost       0.922727      0.071841\n"
     ]
    },
    {
     "name": "stderr",
     "output_type": "stream",
     "text": [
      "c:\\Users\\ttumi\\anaconda3\\Lib\\site-packages\\sklearn\\ensemble\\_weight_boosting.py:519: FutureWarning: The SAMME.R algorithm (the default) is deprecated and will be removed in 1.6. Use the SAMME algorithm to circumvent this warning.\n",
      "  warnings.warn(\n",
      "c:\\Users\\ttumi\\anaconda3\\Lib\\site-packages\\sklearn\\ensemble\\_weight_boosting.py:519: FutureWarning: The SAMME.R algorithm (the default) is deprecated and will be removed in 1.6. Use the SAMME algorithm to circumvent this warning.\n",
      "  warnings.warn(\n",
      "c:\\Users\\ttumi\\anaconda3\\Lib\\site-packages\\sklearn\\ensemble\\_weight_boosting.py:519: FutureWarning: The SAMME.R algorithm (the default) is deprecated and will be removed in 1.6. Use the SAMME algorithm to circumvent this warning.\n",
      "  warnings.warn(\n",
      "c:\\Users\\ttumi\\anaconda3\\Lib\\site-packages\\sklearn\\ensemble\\_weight_boosting.py:519: FutureWarning: The SAMME.R algorithm (the default) is deprecated and will be removed in 1.6. Use the SAMME algorithm to circumvent this warning.\n",
      "  warnings.warn(\n",
      "c:\\Users\\ttumi\\anaconda3\\Lib\\site-packages\\sklearn\\ensemble\\_weight_boosting.py:519: FutureWarning: The SAMME.R algorithm (the default) is deprecated and will be removed in 1.6. Use the SAMME algorithm to circumvent this warning.\n",
      "  warnings.warn(\n",
      "c:\\Users\\ttumi\\anaconda3\\Lib\\site-packages\\sklearn\\ensemble\\_weight_boosting.py:519: FutureWarning: The SAMME.R algorithm (the default) is deprecated and will be removed in 1.6. Use the SAMME algorithm to circumvent this warning.\n",
      "  warnings.warn(\n",
      "c:\\Users\\ttumi\\anaconda3\\Lib\\site-packages\\sklearn\\ensemble\\_weight_boosting.py:519: FutureWarning: The SAMME.R algorithm (the default) is deprecated and will be removed in 1.6. Use the SAMME algorithm to circumvent this warning.\n",
      "  warnings.warn(\n",
      "c:\\Users\\ttumi\\anaconda3\\Lib\\site-packages\\sklearn\\ensemble\\_weight_boosting.py:519: FutureWarning: The SAMME.R algorithm (the default) is deprecated and will be removed in 1.6. Use the SAMME algorithm to circumvent this warning.\n",
      "  warnings.warn(\n",
      "c:\\Users\\ttumi\\anaconda3\\Lib\\site-packages\\sklearn\\ensemble\\_weight_boosting.py:519: FutureWarning: The SAMME.R algorithm (the default) is deprecated and will be removed in 1.6. Use the SAMME algorithm to circumvent this warning.\n",
      "  warnings.warn(\n",
      "c:\\Users\\ttumi\\anaconda3\\Lib\\site-packages\\sklearn\\ensemble\\_weight_boosting.py:519: FutureWarning: The SAMME.R algorithm (the default) is deprecated and will be removed in 1.6. Use the SAMME algorithm to circumvent this warning.\n",
      "  warnings.warn(\n"
     ]
    }
   ],
   "source": [
    "from sklearn.linear_model import LogisticRegression\n",
    "from sklearn.neighbors import KNeighborsClassifier\n",
    "from sklearn.ensemble import RandomForestClassifier, VotingClassifier\n",
    "from sklearn.model_selection import GridSearchCV\n",
    "\n",
    "# Prepare Iris dataset for comprehensive comparison\n",
    "iris = datasets.load_iris()\n",
    "X, y = iris.data, iris.target\n",
    "X_train, X_test, y_train, y_test = train_test_split(X, y, test_size=0.3, random_state=1, stratify=y)\n",
    "\n",
    "# Create individual classifiers\n",
    "clf_lr = LogisticRegression(random_state=1)\n",
    "clf_knn = KNeighborsClassifier()\n",
    "clf_dt = DecisionTreeClassifier(random_state=1)\n",
    "clf_rf = RandomForestClassifier(random_state=1)\n",
    "\n",
    "# Create ensemble methods\n",
    "voting_clf = VotingClassifier(estimators=[\n",
    "    ('lr', clf_lr), ('knn', clf_knn), ('dt', clf_dt), ('rf', clf_rf)], voting='hard')\n",
    "\n",
    "bagging_clf = BaggingClassifier(estimator=clf_dt, n_estimators=100, random_state=1)\n",
    "adaboost_clf = AdaBoostClassifier(estimator=clf_dt, n_estimators=100, random_state=1)\n",
    "\n",
    "classifiers = [clf_lr, clf_knn, clf_dt, clf_rf, voting_clf, bagging_clf, adaboost_clf]\n",
    "classifier_names = ['Logistic Regression', 'KNN', 'Decision Tree', 'Random Forest', \n",
    "                    'Voting Classifier', 'Bagging', 'AdaBoost']\n",
    "\n",
    "# Evaluate all classifiers\n",
    "results = []\n",
    "for clf, name in zip(classifiers, classifier_names):\n",
    "    scores = cross_val_score(clf, X_train, y_train, cv=10, scoring='accuracy')\n",
    "    results.append({\n",
    "        'Classifier': name,\n",
    "        'Mean Accuracy': scores.mean(),\n",
    "        'Std Accuracy': scores.std()\n",
    "    })\n",
    "\n",
    "results_df = pd.DataFrame(results)\n",
    "print(results_df.sort_values('Mean Accuracy', ascending=False))"
   ]
  },
  {
   "cell_type": "markdown",
   "id": "f5b9f05d",
   "metadata": {},
   "source": [
    "**Step 4.2: Hyperparameter Tuning for Ensemble Methods**"
   ]
  },
  {
   "cell_type": "code",
   "execution_count": 18,
   "id": "9e91743a",
   "metadata": {},
   "outputs": [
    {
     "name": "stderr",
     "output_type": "stream",
     "text": [
      "c:\\Users\\ttumi\\anaconda3\\Lib\\site-packages\\sklearn\\ensemble\\_weight_boosting.py:519: FutureWarning: The SAMME.R algorithm (the default) is deprecated and will be removed in 1.6. Use the SAMME algorithm to circumvent this warning.\n",
      "  warnings.warn(\n"
     ]
    },
    {
     "name": "stdout",
     "output_type": "stream",
     "text": [
      "AdaBoost Best parameters:  {'estimator__max_depth': 2, 'learning_rate': 1.0, 'n_estimators': 100}\n",
      "AdaBoost Best score:  0.9523809523809523\n",
      "Bagging Best parameters:  {'max_features': 0.8, 'max_samples': 0.5, 'n_estimators': 200}\n",
      "Bagging Best score:  0.9523809523809523\n"
     ]
    }
   ],
   "source": [
    "# Tune AdaBoost parameters\n",
    "param_grid_ada = {\n",
    "    'n_estimators': [50, 100, 200],\n",
    "    'learning_rate': [0.1, 0.5, 1.0],\n",
    "    'estimator__max_depth': [1, 2, 3]\n",
    "}\n",
    "\n",
    "ada = AdaBoostClassifier(estimator=DecisionTreeClassifier(random_state=1))\n",
    "gs_ada = GridSearchCV(ada, param_grid_ada, cv=5, scoring='accuracy', n_jobs=-1)\n",
    "gs_ada.fit(X_train, y_train)\n",
    "\n",
    "print(\"AdaBoost Best parameters: \", gs_ada.best_params_)\n",
    "print(\"AdaBoost Best score: \", gs_ada.best_score_)\n",
    "\n",
    "# Tune Bagging parameters\n",
    "param_grid_bag = {\n",
    "    'n_estimators': [50, 100, 200],\n",
    "    'max_samples': [0.5, 0.8, 1.0],\n",
    "    'max_features': [0.5, 0.8, 1.0]\n",
    "}\n",
    "\n",
    "bag = BaggingClassifier(estimator=DecisionTreeClassifier(random_state=1), random_state=1)\n",
    "gs_bag = GridSearchCV(bag, param_grid_bag, cv=5, scoring='accuracy', n_jobs=-1)\n",
    "gs_bag.fit(X_train, y_train)\n",
    "\n",
    "print(\"Bagging Best parameters: \", gs_bag.best_params_)\n",
    "print(\"Bagging Best score: \", gs_bag.best_score_)"
   ]
  },
  {
   "cell_type": "markdown",
   "id": "63cd8c16",
   "metadata": {},
   "source": [
    "# Ensemble Learning Lab: Analysis Report"
   ]
  },
  {
   "cell_type": "markdown",
   "id": "193857d7",
   "metadata": {},
   "source": [
    "**1. Majority Voting vs Individual Classifiers**"
   ]
  },
  {
   "cell_type": "markdown",
   "id": "f169eb20",
   "metadata": {},
   "source": [
    "Performance Comparison:\n",
    "\n",
    "Base on our implementation, the majority voting classifier typically achieved higher ROC AUC scores (ROC AUC: 0.97 (+/- 0.05) [Majority voting]) compared to individual classifiers like Logistic Regression, Decision Trees, and KNN. This aligns with ensemble learning theory - by combining multiple diverce models, we reduce individual model biases and variances."
   ]
  },
  {
   "cell_type": "markdown",
   "id": "dadc4361",
   "metadata": {},
   "source": [
    "Why Ensembles Typically Perform Better:\n",
    "\n",
    "1. Error Reduction: Different classifiers make differebt types of errors; majority voting cancels out individual mistakes.\n",
    "\n",
    "2. Diversity Benefit: Each classifier captures different patterns in the data (linear relationships, non-linear boundaries, local patterns).\n",
    "\n",
    "3. Stability: Ensemble predictions are most stable and robust to noise in the data."
   ]
  },
  {
   "cell_type": "markdown",
   "id": "57c446f5",
   "metadata": {},
   "source": [
    "Cases Where Ensembles Might Perform Worse:\n",
    "\n",
    "1. When all base classifiers are highly correlated and make similar errors.\n",
    "\n",
    "2. When weak classifiers are too weak (random guessing).\n",
    "\n",
    "3. With limited training data where ensemble methods can overfit.\n",
    "\n",
    "4. When computational constraints prevent proper hyperparameter tuning."
   ]
  },
  {
   "cell_type": "markdown",
   "id": "6919b61f",
   "metadata": {},
   "source": [
    "**2. Bagging Analysis**"
   ]
  },
  {
   "cell_type": "markdown",
   "id": "0654e442",
   "metadata": {},
   "source": [
    "Number of Estimators Impact:\n",
    "\n",
    "1. Too few estimators: Limited diversity, may not capture complex patterns.\n",
    "\n",
    "2. Increasing estimators: Generally improves performance up to a point, then plateaus.\n",
    "\n",
    "3. Too many estimators: Diminishing returns, increased computation without significant gains."
   ]
  },
  {
   "cell_type": "markdown",
   "id": "10f7ad47",
   "metadata": {},
   "source": [
    "Bootstrap Sampling vs. Entire Dataset:\n",
    "\n",
    "1. Bootstrap sampling: Creating diversity through different training subsets, reduces variance.\n",
    "\n",
    "2. Entire dataset: Less diversity, potentially higher correlation between estimators.\n",
    "\n",
    "3. Optimal approachs: Bootstrap sampling typically works better as it introduces beneficial randomness."
   ]
  },
  {
   "cell_type": "markdown",
   "id": "8e196b0a",
   "metadata": {},
   "source": [
    "Why Bagging Reduces Overfitting:\n",
    "\n",
    "1. Variance Reduction: Averaging multiple models reduces overall variance.\n",
    "\n",
    "2. Decorrelation: Different boostrap samples create decorrelated trees.\n",
    "\n",
    "3. Robustness: Less sensitive to noise and outliers in individual training samples."
   ]
  },
  {
   "cell_type": "markdown",
   "id": "da995eec",
   "metadata": {},
   "source": [
    "**3. AdaBoost Insights**"
   ]
  },
  {
   "cell_type": "markdown",
   "id": "d6b52a29",
   "metadata": {},
   "source": [
    "Learning Rate Effects:\n",
    "\n",
    "1. Low learning rate (0.1): Slow, stable convergence but may require more iterations.\n",
    "\n",
    "2. High learning rate (1.0): Faster convergence but risk of overshooting optimal solution.\n",
    "\n",
    "3. Very high rates: Can cause instability and poor convergence."
   ]
  },
  {
   "cell_type": "markdown",
   "id": "85e6f827",
   "metadata": {},
   "source": [
    "Error Convergence Analysis:\n",
    "\n",
    "1. Training error: Decrease rapidly then stabilizes as weak learners correct previous mistakes.\n",
    "\n",
    "2. Test error: Decreases initially, but may increase later due to overfitting.\n",
    "\n",
    "3. Why test error increases: With too many iterations, AdaBoost starts fitting noise in the training data, reducing generalization."
   ]
  },
  {
   "cell_type": "markdown",
   "id": "b36e5699",
   "metadata": {},
   "source": [
    "Decision Stumps as Estimators:\n",
    "\n",
    "1. Simplicity: Easy to train and interpret.\n",
    "\n",
    "2. Focus on hard samples: Their weakness forces AdaBoost to focus on misclassified instances.\n",
    "\n",
    "3. Computational effeciency: Fast training enables many boosting iterations.\n",
    "\n",
    "4. Diversity: Each stump focuses of different features thresholds."
   ]
  },
  {
   "cell_type": "markdown",
   "id": "2df3b266",
   "metadata": {},
   "source": [
    "**4. Comparative Performance**"
   ]
  },
  {
   "cell_type": "markdown",
   "id": "f61df2f1",
   "metadata": {},
   "source": [
    "Best Performing Method on Iris Datasets:\n",
    "\n",
    "Based on our comprehensive comparison results, K-Nearest Neighbors (KNN) performed best (0.952 ± 0.048), followed closely by Logistic Regression and the ensemble methods (Voting and Bagging).\n",
    "\n"
   ]
  },
  {
   "cell_type": "markdown",
   "id": "f6b6c6bf",
   "metadata": {},
   "source": [
    "Why KNN Excelled on Iris Data:\n",
    "\n",
    "1. Clear cluster separation: Iris species form distinct clusters in feature space.\n",
    "\n",
    "2. Low dimensionality: With only 4 features, distance metrics work effectively.\n",
    "\n",
    "3. Simple geometry: The decision boundaries align well with KNN's instance-based approach.\n",
    "\n",
    "4. Adequate sample size: Enough data points for reliable nearest neighbor estimation."
   ]
  },
  {
   "cell_type": "markdown",
   "id": "67ca5151",
   "metadata": {},
   "source": [
    "Ensemble Performance Understanding:\n",
    "\n",
    "1. Voting/Bagging: Performed competitively (0.941) but didn't outperform best individual models.\n",
    "\n",
    "2. Random Forest: Underperformed (0.932) relative to simpler methods.\n",
    "\n",
    "3. AdaBoost: Showed highest variance (0.072 std) and lower mean accuracy."
   ]
  },
  {
   "cell_type": "markdown",
   "id": "607271ba",
   "metadata": {},
   "source": [
    "Why Ensembles Didn't Dominate on Iris:\n",
    "\n",
    "1. Dataset simplicity: Individual models already achieve near-optimal performance.\n",
    "\n",
    "2. Limited model diversity: Base classifiers may make correlated predictions.\n",
    "\n",
    "3. Over-engineering: Complex methods unnecessary for well-separated classes."
   ]
  },
  {
   "cell_type": "markdown",
   "id": "c16b7d9d",
   "metadata": {},
   "source": [
    "Random Forest vs. Bagging Relationship:\n",
    "\n",
    "Random Forest is essentially bagging with additional randomization:\n",
    "\n",
    "1. Both use bootstrap sampling.\n",
    "\n",
    "2. Random Forest adds random feature selection at each split.\n",
    "\n",
    "3. This extra randomness further decorrelates trees.\n",
    "\n",
    "4. However, on simple datasets, this extra randomness can hurt performance. "
   ]
  },
  {
   "cell_type": "markdown",
   "id": "0b75bc82",
   "metadata": {},
   "source": [
    "Ensemble Method Selection Guidelines:\n",
    "\n",
    "1. Benchmark first: Always test simple models (KNN, Logistic Regression) before ensembels.\n",
    "\n",
    "2. Voting Classifiers: When you have truly diverse, complementary base methods.\n",
    "\n",
    "3. Bagging: For reducing variance of high-variance models on complex datasets.\n",
    "\n",
    "4. Random Forest: Good default for medium-complesity tabular data.\n",
    "\n",
    "5. AdaBoost: When dealing with noisy data and clear hard cases to focus on."
   ]
  },
  {
   "cell_type": "markdown",
   "id": "9a1e30a3",
   "metadata": {},
   "source": [
    "**5. Practical Considerations**"
   ]
  },
  {
   "cell_type": "markdown",
   "id": "75f7bf50",
   "metadata": {},
   "source": [
    "Computational Trade-offs:\n",
    "\n",
    "1. Voting: Parallelizable, moderate computation (train multple models independently).\n",
    "\n",
    "2. Bagging/Random Forest: Highly parallelized, can be memory-intensive with many trees.\n",
    "\n",
    "3. AdaBoost: Sequential training, cannot be parallelized, but learners are fast.\n",
    "\n",
    "4. KNN: Low training time, higher prediction time, memory-intensive for large datasets."
   ]
  },
  {
   "cell_type": "markdown",
   "id": "e5877904",
   "metadata": {},
   "source": [
    "Ensemble Size and Bias-Variance Tradeoff:\n",
    "\n",
    "1. Small ensembles: Higher variance, may underutilize diversity benefits.\n",
    "\n",
    "2. Medium ensembles: Good balance, reduces variance without excessive computation.\n",
    "\n",
    "3. Large ensembles: Diminishing returns, minimal variance reduction, high computation.\n",
    "\n",
    "4. Critical insight: More estimators don't always mean better performance."
   ]
  },
  {
   "cell_type": "markdown",
   "id": "0dba88ef",
   "metadata": {},
   "source": [
    "Real-World Application Scenarios:\n",
    "\n",
    "1. KNN: Recommendation systems, pattern recognition with clear similarity metrics.\n",
    "\n",
    "2. Voting Classifiers: Competitions and ensembles of pre-trained specialized models.\n",
    "\n",
    "3. BaggingL Financial modeling, risk assessment where stability is crucial.\n",
    "\n",
    "4. Random Forest: Medium-complexity business applications, feature importance analysis.\n",
    "\n",
    "5. AdaBoost: Computer vision, anomaly detection where hard cases are important."
   ]
  },
  {
   "cell_type": "markdown",
   "id": "b1efc341",
   "metadata": {},
   "source": [
    "**Key Findings and Observations**"
   ]
  },
  {
   "cell_type": "markdown",
   "id": "394db160",
   "metadata": {},
   "source": [
    "Method Performance Reality Check:\n",
    "\n",
    "1. No universal winner: Simple models can outperform complex ensembles on appropriate datasets.\n",
    "\n",
    "2. KNN superiority on Iris demostrates the importance of matching method to the characteristics.\n",
    "\n",
    "3. Ensemble methods performed respectably but didn't provide the expected dominance."
   ]
  },
  {
   "cell_type": "markdown",
   "id": "1e9c50c7",
   "metadata": {},
   "source": [
    "Method-Specific Insights:\n",
    "\n",
    "1. KNN: Excellent for small, well-structured datasets with clear clusters.\n",
    "\n",
    "2. Logistic Regression: Robust and efficient despite convergence warnings.\n",
    "\n",
    "3. Voting classifiers: Provide insurance against individual model failures.\n",
    "\n",
    "4. Bagging: Consistent performance but limited gains on simple problems.\n",
    "\n",
    "5. AdaBoost: Higher variance suggests sensitivity to hyperparameters."
   ]
  },
  {
   "cell_type": "markdown",
   "id": "e5c5ffd3",
   "metadata": {},
   "source": [
    "Hyperparameter Importance:\n",
    "\n",
    "1. Proper tuning is crucial, especially for senstive methods like AdaBoost.\n",
    "\n",
    "2. Default parameters may suffice for simple datasets and methods.\n",
    "\n",
    "3. Convergence criteria (like max_iter) need attention for reliable results.\n"
   ]
  },
  {
   "cell_type": "markdown",
   "id": "13199a76",
   "metadata": {},
   "source": [
    "Computational vs. Performance Tradeoff:\n",
    "\n",
    "1. KNN and Logistic Regression offered best accuracy with reasonable computation.\n",
    "\n",
    "2. Ensembl methods provided marginal gains at higher computational cost.\n",
    "\n",
    "3. For production systems, simpler well-tuned models often preferred."
   ]
  },
  {
   "cell_type": "markdown",
   "id": "9e373643",
   "metadata": {},
   "source": [
    "Dataset Depedency Reinforced:\n",
    "\n",
    "1. The optimal method heavily depends on dataset characteristics.\n",
    "\n",
    "2. Simple, well-separated data: Consider KNN or Logistic Regression first.\n",
    "\n",
    "3. Complex, noisy data: Ensemble methods likely more beneficial.\n",
    "\n",
    "4. Critical lesson: Always start with simple baselines before investing in complex methods."
   ]
  },
  {
   "cell_type": "markdown",
   "id": "2e1cc4d0",
   "metadata": {},
   "source": [
    "Practical Recommedation:\n",
    "\n",
    "Based on these results, a strategic approach would be:\n",
    "\n",
    "1. Always benchmark against KNN and Logistic Regression.\n",
    "\n",
    "2. Use ensembles when simple methods show clear limitations.\n",
    "\n",
    "3. Consider computational constraints and inference requirements.\n",
    "\n",
    "4. Prioritize model interpretability when domain expertice is valuable."
   ]
  }
 ],
 "metadata": {
  "kernelspec": {
   "display_name": "base",
   "language": "python",
   "name": "python3"
  },
  "language_info": {
   "codemirror_mode": {
    "name": "ipython",
    "version": 3
   },
   "file_extension": ".py",
   "mimetype": "text/x-python",
   "name": "python",
   "nbconvert_exporter": "python",
   "pygments_lexer": "ipython3",
   "version": "3.12.4"
  }
 },
 "nbformat": 4,
 "nbformat_minor": 5
}
